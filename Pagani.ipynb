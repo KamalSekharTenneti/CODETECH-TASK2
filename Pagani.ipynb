{
 "cells": [
  {
   "cell_type": "code",
   "execution_count": 1,
   "id": "b16315ca-ef94-4b9b-9ff1-3e53842fe092",
   "metadata": {},
   "outputs": [],
   "source": [
    "import pandas as pd"
   ]
  },
  {
   "cell_type": "code",
   "execution_count": 2,
   "id": "90304170-bd44-4bd2-a228-7be343aded70",
   "metadata": {},
   "outputs": [],
   "source": [
    "from sklearn.model_selection import train_test_split\n",
    "from sklearn.linear_model import LinearRegression\n",
    "from sklearn.metrics import mean_squared_error, r2_score\n",
    "from sklearn.preprocessing import LabelEncoder"
   ]
  },
  {
   "cell_type": "code",
   "execution_count": 3,
   "id": "0fd2a240-8843-41b8-930c-7539cc2d7857",
   "metadata": {},
   "outputs": [],
   "source": [
    "data = pd.read_csv(\"Pagani.csv\")"
   ]
  },
  {
   "cell_type": "code",
   "execution_count": 4,
   "id": "69567118-d87f-420c-82ae-2ed651e8694d",
   "metadata": {},
   "outputs": [
    {
     "data": {
      "text/html": [
       "<div>\n",
       "<style scoped>\n",
       "    .dataframe tbody tr th:only-of-type {\n",
       "        vertical-align: middle;\n",
       "    }\n",
       "\n",
       "    .dataframe tbody tr th {\n",
       "        vertical-align: top;\n",
       "    }\n",
       "\n",
       "    .dataframe thead th {\n",
       "        text-align: right;\n",
       "    }\n",
       "</style>\n",
       "<table border=\"1\" class=\"dataframe\">\n",
       "  <thead>\n",
       "    <tr style=\"text-align: right;\">\n",
       "      <th></th>\n",
       "      <th>Year</th>\n",
       "      <th>Model</th>\n",
       "      <th>FuelType</th>\n",
       "      <th>UnitsSold</th>\n",
       "      <th>AvgPriceUSD</th>\n",
       "      <th>CustomerSatisfaction</th>\n",
       "    </tr>\n",
       "  </thead>\n",
       "  <tbody>\n",
       "    <tr>\n",
       "      <th>0</th>\n",
       "      <td>2022</td>\n",
       "      <td>Pagani EV1</td>\n",
       "      <td>Electric</td>\n",
       "      <td>150</td>\n",
       "      <td>2000000</td>\n",
       "      <td>92</td>\n",
       "    </tr>\n",
       "    <tr>\n",
       "      <th>1</th>\n",
       "      <td>2022</td>\n",
       "      <td>Pagani Diesel1</td>\n",
       "      <td>Diesel</td>\n",
       "      <td>100</td>\n",
       "      <td>1800000</td>\n",
       "      <td>85</td>\n",
       "    </tr>\n",
       "    <tr>\n",
       "      <th>2</th>\n",
       "      <td>2022</td>\n",
       "      <td>Pagani Petrol1</td>\n",
       "      <td>Petrol</td>\n",
       "      <td>200</td>\n",
       "      <td>1900000</td>\n",
       "      <td>88</td>\n",
       "    </tr>\n",
       "    <tr>\n",
       "      <th>3</th>\n",
       "      <td>2023</td>\n",
       "      <td>Pagani EV1</td>\n",
       "      <td>Electric</td>\n",
       "      <td>180</td>\n",
       "      <td>2100000</td>\n",
       "      <td>93</td>\n",
       "    </tr>\n",
       "    <tr>\n",
       "      <th>4</th>\n",
       "      <td>2023</td>\n",
       "      <td>Pagani Diesel1</td>\n",
       "      <td>Diesel</td>\n",
       "      <td>90</td>\n",
       "      <td>1850000</td>\n",
       "      <td>86</td>\n",
       "    </tr>\n",
       "    <tr>\n",
       "      <th>5</th>\n",
       "      <td>2023</td>\n",
       "      <td>Pagani Petrol1</td>\n",
       "      <td>Petrol</td>\n",
       "      <td>220</td>\n",
       "      <td>1950000</td>\n",
       "      <td>89</td>\n",
       "    </tr>\n",
       "    <tr>\n",
       "      <th>6</th>\n",
       "      <td>2024</td>\n",
       "      <td>Pagani EV1</td>\n",
       "      <td>Electric</td>\n",
       "      <td>200</td>\n",
       "      <td>2150000</td>\n",
       "      <td>94</td>\n",
       "    </tr>\n",
       "    <tr>\n",
       "      <th>7</th>\n",
       "      <td>2024</td>\n",
       "      <td>Pagani Diesel1</td>\n",
       "      <td>Diesel</td>\n",
       "      <td>110</td>\n",
       "      <td>1870000</td>\n",
       "      <td>87</td>\n",
       "    </tr>\n",
       "    <tr>\n",
       "      <th>8</th>\n",
       "      <td>2024</td>\n",
       "      <td>Pagani Petrol1</td>\n",
       "      <td>Petrol</td>\n",
       "      <td>240</td>\n",
       "      <td>2000000</td>\n",
       "      <td>90</td>\n",
       "    </tr>\n",
       "  </tbody>\n",
       "</table>\n",
       "</div>"
      ],
      "text/plain": [
       "   Year           Model  FuelType  UnitsSold  AvgPriceUSD  \\\n",
       "0  2022      Pagani EV1  Electric        150      2000000   \n",
       "1  2022  Pagani Diesel1    Diesel        100      1800000   \n",
       "2  2022  Pagani Petrol1    Petrol        200      1900000   \n",
       "3  2023      Pagani EV1  Electric        180      2100000   \n",
       "4  2023  Pagani Diesel1    Diesel         90      1850000   \n",
       "5  2023  Pagani Petrol1    Petrol        220      1950000   \n",
       "6  2024      Pagani EV1  Electric        200      2150000   \n",
       "7  2024  Pagani Diesel1    Diesel        110      1870000   \n",
       "8  2024  Pagani Petrol1    Petrol        240      2000000   \n",
       "\n",
       "   CustomerSatisfaction  \n",
       "0                    92  \n",
       "1                    85  \n",
       "2                    88  \n",
       "3                    93  \n",
       "4                    86  \n",
       "5                    89  \n",
       "6                    94  \n",
       "7                    87  \n",
       "8                    90  "
      ]
     },
     "execution_count": 4,
     "metadata": {},
     "output_type": "execute_result"
    }
   ],
   "source": [
    "data"
   ]
  },
  {
   "cell_type": "code",
   "execution_count": 5,
   "id": "c2c903f7-c762-4ace-9da9-9a7e3cd8c4dc",
   "metadata": {},
   "outputs": [],
   "source": [
    "X = data.drop(columns=[\"Model\"])\n",
    "y = data[\"CustomerSatisfaction\"]"
   ]
  },
  {
   "cell_type": "code",
   "execution_count": 6,
   "id": "15ccdd62-b324-4b94-97c2-f499ebfb0724",
   "metadata": {},
   "outputs": [],
   "source": [
    "categorical_columns = data.select_dtypes(include=['object']).columns\n",
    "label_encoders = {}"
   ]
  },
  {
   "cell_type": "code",
   "execution_count": 7,
   "id": "ad294d67-5752-44cd-903f-2a824aca97a4",
   "metadata": {},
   "outputs": [],
   "source": [
    "for col in categorical_columns:\n",
    "    le = LabelEncoder()\n",
    "    data[col] = le.fit_transform(data[col])\n",
    "    label_encoders[col] = le "
   ]
  },
  {
   "cell_type": "code",
   "execution_count": 8,
   "id": "c4241d34-1cd4-4e62-b577-aca769ad0093",
   "metadata": {},
   "outputs": [],
   "source": [
    "X = data.drop(columns=[\"Model\"])\n",
    "y = data[\"CustomerSatisfaction\"]"
   ]
  },
  {
   "cell_type": "code",
   "execution_count": 9,
   "id": "81733109-61d2-46f9-9bab-2b663eae7b44",
   "metadata": {},
   "outputs": [],
   "source": [
    "X = data[[\"Year\", \"Model\", \"FuelType\"]]\n",
    "y_units = data[\"UnitsSold\"]\n",
    "y_price = data[\"AvgPriceUSD\"]\n",
    "y_satisfaction = data[\"CustomerSatisfaction\"]"
   ]
  },
  {
   "cell_type": "code",
   "execution_count": 10,
   "id": "8ab2b245-38e9-4c3e-a1b2-e5f29121cac8",
   "metadata": {},
   "outputs": [],
   "source": [
    "X_train, X_test, y_units_train, y_units_test = train_test_split(X, y_units, test_size=0.2, random_state=42)\n",
    "X_train, X_test, y_price_train, y_price_test = train_test_split(X, y_price, test_size=0.2, random_state=42)\n",
    "X_train, X_test, y_satisfaction_train, y_satisfaction_test = train_test_split(X, y_satisfaction, test_size=0.2, random_state=42)"
   ]
  },
  {
   "cell_type": "code",
   "execution_count": 11,
   "id": "bc2ae373-f8dd-47f8-a069-88910b96c527",
   "metadata": {},
   "outputs": [
    {
     "ename": "NameError",
     "evalue": "name 'model_units' is not defined",
     "output_type": "error",
     "traceback": [
      "\u001b[1;31m---------------------------------------------------------------------------\u001b[0m",
      "\u001b[1;31mNameError\u001b[0m                                 Traceback (most recent call last)",
      "Cell \u001b[1;32mIn[11], line 1\u001b[0m\n\u001b[1;32m----> 1\u001b[0m \u001b[43mmodel_units\u001b[49m\u001b[38;5;241m.\u001b[39mfit(X_train, y_units_train)\n\u001b[0;32m      2\u001b[0m model_price\u001b[38;5;241m.\u001b[39mfit(X_train, y_price_train)\n\u001b[0;32m      3\u001b[0m model_satisfaction\u001b[38;5;241m.\u001b[39mfit(X_train, y_satisfaction_train)\n",
      "\u001b[1;31mNameError\u001b[0m: name 'model_units' is not defined"
     ]
    }
   ],
   "source": [
    "model_units.fit(X_train, y_units_train)\n",
    "model_price.fit(X_train, y_price_train)\n",
    "model_satisfaction.fit(X_train, y_satisfaction_train)"
   ]
  },
  {
   "cell_type": "code",
   "execution_count": null,
   "id": "85510971-6338-43d8-b3a4-b94829d4d370",
   "metadata": {},
   "outputs": [],
   "source": [
    "y_pred = model.predict(X_test)"
   ]
  },
  {
   "cell_type": "code",
   "execution_count": null,
   "id": "cfd01573-bcef-4d69-bd4e-15ded3cb22fe",
   "metadata": {},
   "outputs": [],
   "source": [
    "mse = mean_squared_error(y_test, y_pred)\n",
    "r2 = r2_score(y_test, y_pred)"
   ]
  },
  {
   "cell_type": "code",
   "execution_count": null,
   "id": "1f719208-9909-4575-8970-c0cac3221220",
   "metadata": {},
   "outputs": [
    {
     "name": "stdout",
     "output_type": "stream",
     "text": [
      "Mean Squared Error: 0.00025955480224235095\n",
      "R-squared: 0.9997404451977576\n"
     ]
    }
   ],
   "source": [
    "print(f\"Mean Squared Error: {mse}\")\n",
    "print(f\"R-squared: {r2}\")"
   ]
  },
  {
   "cell_type": "code",
   "execution_count": null,
   "id": "a78dec7f-88c4-4c40-a37f-5174100dffaa",
   "metadata": {},
   "outputs": [
    {
     "name": "stdout",
     "output_type": "stream",
     "text": [
      "Year                    int64\n",
      "Model                   int64\n",
      "FuelType                int64\n",
      "UnitsSold               int64\n",
      "AvgPriceUSD             int64\n",
      "CustomerSatisfaction    int64\n",
      "dtype: object\n",
      "   Year  Model  FuelType  UnitsSold  AvgPriceUSD  CustomerSatisfaction\n",
      "0  2022      1         1        150      2000000                    92\n",
      "1  2022      0         0        100      1800000                    85\n",
      "2  2022      2         2        200      1900000                    88\n",
      "3  2023      1         1        180      2100000                    93\n",
      "4  2023      0         0         90      1850000                    86\n",
      "5  2023      2         2        220      1950000                    89\n",
      "6  2024      1         1        200      2150000                    94\n",
      "7  2024      0         0        110      1870000                    87\n",
      "8  2024      2         2        240      2000000                    90\n"
     ]
    }
   ],
   "source": [
    "print(data.dtypes)\n",
    "print(data)"
   ]
  }
 ],
 "metadata": {
  "kernelspec": {
   "display_name": "venv",
   "language": "python",
   "name": "python3"
  },
  "language_info": {
   "codemirror_mode": {
    "name": "ipython",
    "version": 3
   },
   "file_extension": ".py",
   "mimetype": "text/x-python",
   "name": "python",
   "nbconvert_exporter": "python",
   "pygments_lexer": "ipython3",
   "version": "3.13.0"
  }
 },
 "nbformat": 4,
 "nbformat_minor": 5
}
